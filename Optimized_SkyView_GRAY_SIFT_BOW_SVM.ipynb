{
 "cells": [
  {
   "cell_type": "code",
   "execution_count": null,
   "id": "b8152b5e",
   "metadata": {},
   "outputs": [],
   "source": [
    "from google.colab import drive\n",
    "drive.mount('/content/drive')\n",
    "\n",
    "from zipfile import ZipFile\n",
    "import os\n",
    "import random\n",
    "\n",
    "zip_path = \"/content/drive/MyDrive/9517/archive.zip\"\n",
    "extract_path = \"/content/skyview_data\"\n",
    "\n",
    "with ZipFile(zip_path, 'r') as zip_ref:\n",
    "    zip_ref.extractall(extract_path)\n",
    "\n",
    "base_path = os.path.join(extract_path, \"Aerial_Landscapes\")\n",
    "classes = sorted(os.listdir(base_path))\n",
    "class_to_idx = {cls: idx for idx, cls in enumerate(classes)}\n",
    "print(\"类别数量:\", len(classes))\n",
    "print(\"类别示例:\", classes[:5])"
   ]
  },
  {
   "cell_type": "code",
   "execution_count": null,
   "id": "91101310",
   "metadata": {},
   "outputs": [],
   "source": [
    "import cv2\n",
    "import numpy as np\n",
    "from sklearn.cluster import KMeans\n",
    "from sklearn.svm import SVC\n",
    "from sklearn.metrics import accuracy_score, precision_score, recall_score, f1_score, classification_report, confusion_matrix\n",
    "from sklearn.preprocessing import StandardScaler\n",
    "from tqdm import tqdm\n",
    "import matplotlib.pyplot as plt\n",
    "import seaborn as sns"
   ]
  },
  {
   "cell_type": "code",
   "execution_count": null,
   "id": "046641ef",
   "metadata": {},
   "outputs": [],
   "source": [
    "def collect_image_paths(base_path):\n",
    "    train_paths, test_paths = [], []\n",
    "    train_labels, test_labels = [], []\n",
    "    for cls_name in sorted(os.listdir(base_path)):\n",
    "        cls_folder = os.path.join(base_path, cls_name)\n",
    "        if os.path.isdir(cls_folder):\n",
    "            all_imgs = sorted([os.path.join(cls_folder, f) for f in os.listdir(cls_folder) if f.endswith('.jpg') or f.endswith('.png')])\n",
    "            random.shuffle(all_imgs)\n",
    "            n_total = len(all_imgs)\n",
    "            n_train = int(0.8 * n_total)\n",
    "            train_paths += all_imgs[:n_train]\n",
    "            train_labels += [class_to_idx[cls_name]] * n_train\n",
    "            test_paths += all_imgs[n_train:]\n",
    "            test_labels += [class_to_idx[cls_name]] * (n_total - n_train)\n",
    "    return train_paths, train_labels, test_paths, test_labels\n",
    "\n",
    "train_paths, train_labels, test_paths, test_labels = collect_image_paths(base_path)\n",
    "print(f\"训练图像数量: {len(train_paths)}，测试图像数量: {len(test_paths)}\")"
   ]
  },
  {
   "cell_type": "code",
   "execution_count": null,
   "id": "cc9e0741",
   "metadata": {},
   "outputs": [],
   "source": [
    "def extract_sift_from_paths(image_paths, max_per_image=100):\n",
    "    sift = cv2.SIFT_create()\n",
    "    descriptors = []\n",
    "    for path in tqdm(image_paths):\n",
    "        img = cv2.imread(path)\n",
    "        gray = cv2.cvtColor(img, cv2.COLOR_BGR2GRAY)\n",
    "        _, des = sift.detectAndCompute(gray, None)\n",
    "        if des is not None and len(des) > 0:\n",
    "            if max_per_image and des.shape[0] > max_per_image:\n",
    "                idx = np.random.choice(des.shape[0], max_per_image, replace=False)\n",
    "                des = des[idx]\n",
    "            descriptors.append(des)\n",
    "    return descriptors"
   ]
  },
  {
   "cell_type": "code",
   "execution_count": null,
   "id": "220511ce",
   "metadata": {},
   "outputs": [],
   "source": [
    "print(\"提取训练集部分特征以训练词典...\")\n",
    "sampled_descriptors = extract_sift_from_paths(train_paths, max_per_image=100)\n",
    "all_sampled = np.vstack(sampled_descriptors)\n",
    "print(\"开始训练 KMeans...\")\n",
    "kmeans = KMeans(n_clusters=150, random_state=42, n_init='auto')\n",
    "kmeans.fit(all_sampled)"
   ]
  },
  {
   "cell_type": "code",
   "execution_count": null,
   "id": "953928e4",
   "metadata": {},
   "outputs": [],
   "source": [
    "def compute_bow_feature(image_path, kmeans):\n",
    "    sift = cv2.SIFT_create()\n",
    "    img = cv2.imread(image_path)\n",
    "    gray = cv2.cvtColor(img, cv2.COLOR_BGR2GRAY)\n",
    "    _, des = sift.detectAndCompute(gray, None)\n",
    "    hist = np.zeros(kmeans.n_clusters)\n",
    "    if des is not None and len(des) > 0:\n",
    "        words = kmeans.predict(des)\n",
    "        for w in words:\n",
    "            hist[w] += 1\n",
    "    return hist"
   ]
  },
  {
   "cell_type": "code",
   "execution_count": null,
   "id": "ce836f1b",
   "metadata": {},
   "outputs": [],
   "source": [
    "X_train = [compute_bow_feature(path, kmeans) for path in tqdm(train_paths)]\n",
    "X_test = [compute_bow_feature(path, kmeans) for path in tqdm(test_paths)]\n",
    "y_train = train_labels\n",
    "y_test = test_labels"
   ]
  },
  {
   "cell_type": "code",
   "execution_count": null,
   "id": "5e07d380",
   "metadata": {},
   "outputs": [],
   "source": [
    "scaler = StandardScaler()\n",
    "X_train_scaled = scaler.fit_transform(X_train)\n",
    "X_test_scaled = scaler.transform(X_test)\n",
    "\n",
    "clf = SVC(kernel='linear', C=1.0, random_state=42)\n",
    "clf.fit(X_train_scaled, y_train)\n",
    "y_pred = clf.predict(X_test_scaled)"
   ]
  },
  {
   "cell_type": "code",
   "execution_count": null,
   "id": "b6e666a4",
   "metadata": {},
   "outputs": [],
   "source": [
    "accuracy = accuracy_score(y_test, y_pred)\n",
    "precision = precision_score(y_test, y_pred, average='macro', zero_division=0)\n",
    "recall = recall_score(y_test, y_pred, average='macro', zero_division=0)\n",
    "f1 = f1_score(y_test, y_pred, average='macro', zero_division=0)\n",
    "report = classification_report(y_test, y_pred, target_names=classes)\n",
    "\n",
    "print(f\"准确率 (Accuracy): {accuracy:.4f}\")\n",
    "print(f\"精确率 (Precision): {precision:.4f}\")\n",
    "print(f\"召回率 (Recall): {recall:.4f}\")\n",
    "print(f\"F1 分数 (F1-score): {f1:.4f}\")\n",
    "print(\"\\n分类报告:\\n\", report)"
   ]
  },
  {
   "cell_type": "code",
   "execution_count": null,
   "id": "4871fb68",
   "metadata": {},
   "outputs": [],
   "source": [
    "conf_mat = confusion_matrix(y_test, y_pred)\n",
    "plt.figure(figsize=(10, 8))\n",
    "sns.heatmap(conf_mat, annot=True, fmt='d', xticklabels=classes, yticklabels=classes, cmap='Blues')\n",
    "plt.title(\"混淆矩阵 (Confusion Matrix)\")\n",
    "plt.xlabel(\"预测标签 (Predicted)\")\n",
    "plt.ylabel(\"真实标签 (Actual)\")\n",
    "plt.tight_layout()\n",
    "plt.show()"
   ]
  }
 ],
 "metadata": {},
 "nbformat": 4,
 "nbformat_minor": 5
}
