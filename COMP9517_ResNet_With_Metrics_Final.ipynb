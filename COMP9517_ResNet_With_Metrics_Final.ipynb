{
 "cells": [
  {
   "cell_type": "code",
   "execution_count": 2,
   "id": "f561b7b9",
   "metadata": {},
   "outputs": [],
   "source": [
    "import os\n",
    "import cv2\n",
    "import torch\n",
    "import random\n",
    "import numpy as np\n",
    "import matplotlib.pyplot as plt\n",
    "from tqdm import tqdm\n",
    "from torch import nn, optim\n",
    "from torch.utils.data import Dataset, DataLoader\n",
    "from torchvision import models, transforms\n",
    "from sklearn.metrics import classification_report, confusion_matrix, ConfusionMatrixDisplay\n"
   ]
  },
  {
   "cell_type": "code",
   "execution_count": 3,
   "id": "23ccc34e",
   "metadata": {},
   "outputs": [],
   "source": [
    "# 超参数设置\n",
    "config = {\n",
    "    \"model_name\": \"resnet\",  # 可选 \"resnet\" 或 \"vgg\"\n",
    "    \"num_epochs\": 15,\n",
    "    \"batch_size\": 32,\n",
    "    \"learning_rate\": 0.001,\n",
    "    \"test_size\": 0.2,\n",
    "    \"sample_ratio\": 1.0\n",
    "}\n",
    "device = torch.device(\"cuda\" if torch.cuda.is_available() else \"cpu\")\n",
    "dataset_path = \"Aerial_Landscapes/\"\n"
   ]
  },
  {
   "cell_type": "code",
   "execution_count": 4,
   "id": "0dfaf865",
   "metadata": {},
   "outputs": [],
   "source": [
    "def initialize_model(model_name, num_classes, use_pretrained=True):\n",
    "    input_size = 224\n",
    "    if model_name == \"resnet\":\n",
    "        model = models.resnet18(pretrained=use_pretrained)\n",
    "        model.fc = nn.Linear(model.fc.in_features, num_classes)\n",
    "    elif model_name == \"vgg\":\n",
    "        model = models.vgg16(pretrained=use_pretrained)\n",
    "        model.classifier[6] = nn.Linear(model.classifier[6].in_features, num_classes)\n",
    "    else:\n",
    "        raise ValueError(\"不支持的模型名称，请选择 'resnet' 或 'vgg'\")\n",
    "    return model, input_size\n"
   ]
  },
  {
   "cell_type": "code",
   "execution_count": 5,
   "id": "e231d89c",
   "metadata": {},
   "outputs": [],
   "source": [
    "def get_transforms(input_size=224):\n",
    "    train_transform = transforms.Compose([\n",
    "        transforms.ToPILImage(),\n",
    "        transforms.RandomResizedCrop(input_size),\n",
    "        transforms.RandomHorizontalFlip(),\n",
    "        transforms.RandomRotation(15),\n",
    "        transforms.ToTensor(),\n",
    "        transforms.Normalize([0.485, 0.456, 0.406], [0.229, 0.224, 0.225])\n",
    "    ])\n",
    "    test_transform = transforms.Compose([\n",
    "        transforms.ToPILImage(),\n",
    "        transforms.Resize(input_size),\n",
    "        transforms.CenterCrop(input_size),\n",
    "        transforms.ToTensor(),\n",
    "        transforms.Normalize([0.485, 0.456, 0.406], [0.229, 0.224, 0.225])\n",
    "    ])\n",
    "    return train_transform, test_transform\n"
   ]
  },
  {
   "cell_type": "code",
   "execution_count": 6,
   "id": "d99c2528",
   "metadata": {},
   "outputs": [],
   "source": [
    "class CustomDataset(Dataset):\n",
    "    def __init__(self, images, labels, transform=None):\n",
    "        self.images = images\n",
    "        self.labels = labels\n",
    "        self.transform = transform\n",
    "\n",
    "    def __len__(self):\n",
    "        return len(self.images)\n",
    "\n",
    "    def __getitem__(self, idx):\n",
    "        image = self.images[idx]\n",
    "        label = self.labels[idx]\n",
    "        image = cv2.cvtColor(image, cv2.COLOR_BGR2RGB)\n",
    "        if self.transform:\n",
    "            image = self.transform(image)\n",
    "        return image, label\n"
   ]
  },
  {
   "cell_type": "code",
   "execution_count": 7,
   "id": "564eb13c",
   "metadata": {},
   "outputs": [],
   "source": [
    "def load_and_split_dataset(root_dir, test_size=0.2, sample_ratio=1.0):\n",
    "    classes = sorted(os.listdir(root_dir))\n",
    "    class_to_idx = {cls_name: i for i, cls_name in enumerate(classes)}\n",
    "    train_images, train_labels = [], []\n",
    "    test_images, test_labels = [], []\n",
    "\n",
    "    for cls_name in classes:\n",
    "        cls_path = os.path.join(root_dir, cls_name)\n",
    "        img_files = [os.path.join(cls_path, f) for f in os.listdir(cls_path) if f.endswith('.jpg')]\n",
    "        random.seed(42)\n",
    "        random.shuffle(img_files)\n",
    "        n_samples = int(len(img_files) * sample_ratio)\n",
    "        split = int(n_samples * (1 - test_size))\n",
    "        imgs = img_files[:n_samples]\n",
    "        train_imgs = imgs[:split]\n",
    "        test_imgs = imgs[split:]\n",
    "        train_images.extend([cv2.imread(p) for p in train_imgs])\n",
    "        train_labels.extend([class_to_idx[cls_name]] * len(train_imgs))\n",
    "        test_images.extend([cv2.imread(p) for p in test_imgs])\n",
    "        test_labels.extend([class_to_idx[cls_name]] * len(test_imgs))\n",
    "\n",
    "    return (train_images, train_labels), (test_images, test_labels), classes\n"
   ]
  },
  {
   "cell_type": "code",
   "execution_count": 8,
   "id": "1dc41c6b",
   "metadata": {},
   "outputs": [],
   "source": [
    "def train_model(model, device, train_loader, test_loader, criterion, optimizer, num_epochs=25, patience=5):\n",
    "    best_acc = 0.0\n",
    "    no_improve = 0\n",
    "    history = {'train_loss': [], 'train_acc': [], 'test_loss': [], 'test_acc': []}\n",
    "\n",
    "    for epoch in tqdm(range(num_epochs)):\n",
    "        model.train()\n",
    "        running_loss = 0.0\n",
    "        correct = 0\n",
    "        total = 0\n",
    "\n",
    "        for inputs, labels in train_loader:\n",
    "            inputs, labels = inputs.to(device), labels.to(device)\n",
    "            optimizer.zero_grad()\n",
    "            outputs = model(inputs)\n",
    "            loss = criterion(outputs, labels)\n",
    "            loss.backward()\n",
    "            optimizer.step()\n",
    "\n",
    "            running_loss += loss.item() * inputs.size(0)\n",
    "            _, preds = torch.max(outputs, 1)\n",
    "            correct += torch.sum(preds == labels).item()\n",
    "            total += labels.size(0)\n",
    "\n",
    "        train_loss = running_loss / total\n",
    "        train_acc = correct / total\n",
    "        history['train_loss'].append(train_loss)\n",
    "        history['train_acc'].append(train_acc)\n",
    "\n",
    "        print(f\"Epoch {epoch+1}: Train Loss {train_loss:.4f}, Accuracy {train_acc:.4f}\")\n",
    "\n",
    "        if train_acc > best_acc:\n",
    "            best_acc = train_acc\n",
    "            no_improve = 0\n",
    "        else:\n",
    "            no_improve += 1\n",
    "            if no_improve >= patience:\n",
    "                print(\"Early stopping triggered.\")\n",
    "                break\n",
    "    return model, history\n"
   ]
  },
  {
   "cell_type": "code",
   "execution_count": 9,
   "id": "7603de8c",
   "metadata": {},
   "outputs": [],
   "source": [
    "def evaluate_model(model, test_loader, device, class_names):\n",
    "    model.eval()\n",
    "    y_true, y_pred = [], []\n",
    "    with torch.no_grad():\n",
    "        for inputs, labels in test_loader:\n",
    "            inputs = inputs.to(device)\n",
    "            outputs = model(inputs)\n",
    "            _, preds = torch.max(outputs, 1)\n",
    "            y_true.extend(labels)\n",
    "            y_pred.extend(preds.cpu().numpy())\n",
    "\n",
    "    print(classification_report(y_true, y_pred, target_names=class_names))\n",
    "    cm = confusion_matrix(y_true, y_pred)\n",
    "    disp = ConfusionMatrixDisplay(confusion_matrix=cm, display_labels=class_names)\n",
    "    disp.plot(xticks_rotation='vertical', cmap='Blues')\n"
   ]
  },
  {
   "cell_type": "code",
   "execution_count": 10,
   "id": "372ef615",
   "metadata": {},
   "outputs": [
    {
     "name": "stderr",
     "output_type": "stream",
     "text": [
      "/root/miniconda3/lib/python3.12/site-packages/torchvision/models/_utils.py:208: UserWarning: The parameter 'pretrained' is deprecated since 0.13 and may be removed in the future, please use 'weights' instead.\n",
      "  warnings.warn(\n",
      "/root/miniconda3/lib/python3.12/site-packages/torchvision/models/_utils.py:223: UserWarning: Arguments other than a weight enum or `None` for 'weights' are deprecated since 0.13 and may be removed in the future. The current behavior is equivalent to passing `weights=ResNet18_Weights.IMAGENET1K_V1`. You can also use `weights=ResNet18_Weights.DEFAULT` to get the most up-to-date weights.\n",
      "  warnings.warn(msg)\n",
      "  7%|▋         | 1/15 [00:20<04:47, 20.50s/it]"
     ]
    },
    {
     "name": "stdout",
     "output_type": "stream",
     "text": [
      "Epoch 1: Train Loss 1.1167, Accuracy 0.6483\n"
     ]
    },
    {
     "name": "stderr",
     "output_type": "stream",
     "text": [
      " 13%|█▎        | 2/15 [00:40<04:25, 20.39s/it]"
     ]
    },
    {
     "name": "stdout",
     "output_type": "stream",
     "text": [
      "Epoch 2: Train Loss 0.7903, Accuracy 0.7521\n"
     ]
    },
    {
     "name": "stderr",
     "output_type": "stream",
     "text": [
      " 20%|██        | 3/15 [01:01<04:04, 20.35s/it]"
     ]
    },
    {
     "name": "stdout",
     "output_type": "stream",
     "text": [
      "Epoch 3: Train Loss 0.6504, Accuracy 0.7927\n"
     ]
    },
    {
     "name": "stderr",
     "output_type": "stream",
     "text": [
      " 27%|██▋       | 4/15 [01:22<03:48, 20.79s/it]"
     ]
    },
    {
     "name": "stdout",
     "output_type": "stream",
     "text": [
      "Epoch 4: Train Loss 0.5821, Accuracy 0.8171\n"
     ]
    },
    {
     "name": "stderr",
     "output_type": "stream",
     "text": [
      " 33%|███▎      | 5/15 [01:44<03:30, 21.06s/it]"
     ]
    },
    {
     "name": "stdout",
     "output_type": "stream",
     "text": [
      "Epoch 5: Train Loss 0.5238, Accuracy 0.8360\n"
     ]
    },
    {
     "name": "stderr",
     "output_type": "stream",
     "text": [
      " 40%|████      | 6/15 [02:05<03:11, 21.23s/it]"
     ]
    },
    {
     "name": "stdout",
     "output_type": "stream",
     "text": [
      "Epoch 6: Train Loss 0.5072, Accuracy 0.8404\n"
     ]
    },
    {
     "name": "stderr",
     "output_type": "stream",
     "text": [
      " 47%|████▋     | 7/15 [02:26<02:49, 21.17s/it]"
     ]
    },
    {
     "name": "stdout",
     "output_type": "stream",
     "text": [
      "Epoch 7: Train Loss 0.4914, Accuracy 0.8499\n"
     ]
    },
    {
     "name": "stderr",
     "output_type": "stream",
     "text": [
      " 53%|█████▎    | 8/15 [02:47<02:28, 21.16s/it]"
     ]
    },
    {
     "name": "stdout",
     "output_type": "stream",
     "text": [
      "Epoch 8: Train Loss 0.4436, Accuracy 0.8593\n"
     ]
    },
    {
     "name": "stderr",
     "output_type": "stream",
     "text": [
      " 60%|██████    | 9/15 [03:08<02:05, 20.99s/it]"
     ]
    },
    {
     "name": "stdout",
     "output_type": "stream",
     "text": [
      "Epoch 9: Train Loss 0.4367, Accuracy 0.8622\n"
     ]
    },
    {
     "name": "stderr",
     "output_type": "stream",
     "text": [
      " 67%|██████▋   | 10/15 [03:29<01:44, 20.98s/it]"
     ]
    },
    {
     "name": "stdout",
     "output_type": "stream",
     "text": [
      "Epoch 10: Train Loss 0.4335, Accuracy 0.8644\n"
     ]
    },
    {
     "name": "stderr",
     "output_type": "stream",
     "text": [
      " 73%|███████▎  | 11/15 [03:50<01:23, 20.92s/it]"
     ]
    },
    {
     "name": "stdout",
     "output_type": "stream",
     "text": [
      "Epoch 11: Train Loss 0.3975, Accuracy 0.8695\n"
     ]
    },
    {
     "name": "stderr",
     "output_type": "stream",
     "text": [
      " 80%|████████  | 12/15 [04:11<01:02, 20.98s/it]"
     ]
    },
    {
     "name": "stdout",
     "output_type": "stream",
     "text": [
      "Epoch 12: Train Loss 0.3898, Accuracy 0.8755\n"
     ]
    },
    {
     "name": "stderr",
     "output_type": "stream",
     "text": [
      " 87%|████████▋ | 13/15 [04:32<00:41, 20.93s/it]"
     ]
    },
    {
     "name": "stdout",
     "output_type": "stream",
     "text": [
      "Epoch 13: Train Loss 0.3952, Accuracy 0.8795\n"
     ]
    },
    {
     "name": "stderr",
     "output_type": "stream",
     "text": [
      " 93%|█████████▎| 14/15 [04:53<00:20, 20.94s/it]"
     ]
    },
    {
     "name": "stdout",
     "output_type": "stream",
     "text": [
      "Epoch 14: Train Loss 0.3497, Accuracy 0.8878\n"
     ]
    },
    {
     "name": "stderr",
     "output_type": "stream",
     "text": [
      "100%|██████████| 15/15 [05:14<00:00, 20.94s/it]"
     ]
    },
    {
     "name": "stdout",
     "output_type": "stream",
     "text": [
      "Epoch 15: Train Loss 0.3600, Accuracy 0.8867\n"
     ]
    },
    {
     "name": "stderr",
     "output_type": "stream",
     "text": [
      "\n"
     ]
    },
    {
     "name": "stdout",
     "output_type": "stream",
     "text": [
      "Evaluation Metrics (Precision, Recall, F1-score):\n",
      "\n",
      "              precision    recall  f1-score   support\n",
      "\n",
      " Agriculture     0.9205    0.8688    0.8939       160\n",
      "     Airport     0.8805    0.8750    0.8777       160\n",
      "       Beach     0.9574    0.8438    0.8970       160\n",
      "        City     0.8603    0.9625    0.9086       160\n",
      "      Desert     0.9102    0.9500    0.9297       160\n",
      "      Forest     0.9682    0.9500    0.9590       160\n",
      "   Grassland     0.9580    0.8562    0.9043       160\n",
      "     Highway     0.8500    0.9563    0.9000       160\n",
      "        Lake     0.6996    0.9750    0.8146       160\n",
      "    Mountain     0.8779    0.9437    0.9096       160\n",
      "     Parking     0.9926    0.8375    0.9085       160\n",
      "        Port     0.8556    0.9625    0.9059       160\n",
      "     Railway     0.9624    0.8000    0.8737       160\n",
      " Residential     0.9630    0.9750    0.9689       160\n",
      "       River     0.9492    0.7000    0.8058       160\n",
      "\n",
      "    accuracy                         0.8971      2400\n",
      "   macro avg     0.9070    0.8971    0.8971      2400\n",
      "weighted avg     0.9070    0.8971    0.8971      2400\n",
      "\n"
     ]
    },
    {
     "data": {
      "text/plain": [
       "<Figure size 1200x1000 with 0 Axes>"
      ]
     },
     "metadata": {},
     "output_type": "display_data"
    },
    {
     "data": {
      "image/png": "[encoded data removed]",
      "text/plain": [
       "<Figure size 640x480 with 2 Axes>"
      ]
     },
     "metadata": {},
     "output_type": "display_data"
    }
   ],
   "source": [
    "# 加载数据\n",
    "(train_images, train_labels), (test_images, test_labels), classes = load_and_split_dataset(\n",
    "    dataset_path,\n",
    "    test_size=config[\"test_size\"],\n",
    "    sample_ratio=config[\"sample_ratio\"]\n",
    ")\n",
    "\n",
    "# 初始化模型\n",
    "model, input_size = initialize_model(\n",
    "    model_name=config[\"model_name\"],\n",
    "    num_classes=len(classes),\n",
    "    use_pretrained=True\n",
    ")\n",
    "model = model.to(device)\n",
    "\n",
    "# 数据增强\n",
    "train_transform, test_transform = get_transforms(input_size)\n",
    "\n",
    "# 构建Dataset和Loader\n",
    "train_dataset = CustomDataset(train_images, train_labels, train_transform)\n",
    "test_dataset = CustomDataset(test_images, test_labels, test_transform)\n",
    "train_loader = DataLoader(train_dataset, batch_size=config[\"batch_size\"], shuffle=True)\n",
    "test_loader = DataLoader(test_dataset, batch_size=config[\"batch_size\"], shuffle=False)\n",
    "\n",
    "# 损失函数与优化器\n",
    "criterion = nn.CrossEntropyLoss()\n",
    "optimizer = optim.Adam(model.parameters(), lr=config[\"learning_rate\"])\n",
    "\n",
    "# 训练模型\n",
    "model, history = train_model(\n",
    "    model, device, train_loader, test_loader,\n",
    "    criterion, optimizer,\n",
    "    num_epochs=config[\"num_epochs\"],\n",
    "    patience=5\n",
    ")\n",
    "\n",
    "# 评估\n",
    "model.eval()\n",
    "y_true, y_pred = [], []\n",
    "with torch.no_grad():\n",
    "    for inputs, labels in test_loader:\n",
    "        inputs = inputs.to(device)\n",
    "        outputs = model(inputs)\n",
    "        _, preds = torch.max(outputs, 1)\n",
    "        y_true.extend(labels)\n",
    "        y_pred.extend(preds.cpu().numpy())\n",
    "\n",
    "# 输出三种指标：precision、recall、f1-score\n",
    "report = classification_report(y_true, y_pred, target_names=classes, digits=4)\n",
    "print(\"Evaluation Metrics (Precision, Recall, F1-score):\\n\")\n",
    "print(report)\n",
    "\n",
    "# 混淆矩阵可视化\n",
    "cm = confusion_matrix(y_true, y_pred)\n",
    "disp = ConfusionMatrixDisplay(confusion_matrix=cm, display_labels=classes)\n",
    "plt.figure(figsize=(12, 10))\n",
    "disp.plot(xticks_rotation=45, cmap='Blues')\n",
    "plt.title(\"Confusion Matrix\")\n",
    "plt.grid(False)\n",
    "plt.tight_layout()\n",
    "plt.show()\n"
   ]
  }
 ],
 "metadata": {
  "kernelspec": {
   "display_name": "base",
   "language": "python",
   "name": "python3"
  },
  "language_info": {
   "codemirror_mode": {
    "name": "ipython",
    "version": 3
   },
   "file_extension": ".py",
   "mimetype": "text/x-python",
   "name": "python",
   "nbconvert_exporter": "python",
   "pygments_lexer": "ipython3",
   "version": "3.12.3"
  }
 },
 "nbformat": 4,
 "nbformat_minor": 5
}
